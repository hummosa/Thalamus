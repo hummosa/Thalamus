{
 "cells": [
  {
   "cell_type": "markdown",
   "id": "06101a44",
   "metadata": {},
   "source": [
    "FurthVisualizing the innards of the three optimization for adaptive behavior on serial neurogym."
   ]
  },
  {
   "cell_type": "code",
   "execution_count": 1,
   "id": "0ac0e263",
   "metadata": {},
   "outputs": [],
   "source": [
    "#!/usr/bin/env python\n",
    "# coding: utf-8\n",
    "# system\n",
    "import os\n",
    "import sys\n",
    "root = os.getcwd()\n",
    "sys.path.append(root)\n",
    "sys.path.append('..')\n",
    "from pathlib import Path\n",
    "import json\n",
    "# tools\n",
    "import time\n",
    "import itertools\n",
    "from collections import defaultdict\n",
    "# computation\n",
    "import math\n",
    "import numpy as np\n",
    "import random\n",
    "import pandas as pd\n",
    "import torch\n",
    "import torch.nn as nn\n",
    "from torch.nn import init\n",
    "from torch.nn import functional as F\n",
    "# tasks\n",
    "import gym\n",
    "import neurogym as ngym\n",
    "from neurogym.wrappers import ScheduleEnvs\n",
    "from neurogym.utils.scheduler import RandomSchedule\n",
    "# models\n",
    "# from model_dev import RNN_MD\n",
    "# from model_dev import serial_RNN_MD as RNN_MD\n",
    "# from utils import get_full_performance\n",
    "# visualization\n",
    "import matplotlib as mpl\n",
    "mpl.rcParams['axes.spines.left'] = True\n",
    "mpl.rcParams['axes.spines.right'] = False\n",
    "mpl.rcParams['axes.spines.top'] = False\n",
    "mpl.rcParams['axes.spines.bottom'] = True\n",
    "mpl.rcParams['pdf.fonttype'] = 42\n",
    "mpl.rcParams['ps.fonttype'] = 42\n",
    "import matplotlib.pyplot as plt\n",
    "import matplotlib\n",
    "from tqdm import tqdm, trange\n",
    "import seaborn as sns\n",
    "from utils import get_logs_and_files, convert_train_to_test_idx\n"
   ]
  },
  {
   "cell_type": "code",
   "execution_count": 2,
   "id": "08b73eed",
   "metadata": {},
   "outputs": [
    {
     "name": "stdout",
     "output_type": "stream",
     "text": [
      "current folder:  /home/ahummos/code/multiplicative/analysis\n"
     ]
    }
   ],
   "source": [
    "# exp_name= 'neurips'\n",
    "data_folder = './../files/paper_data/'\n",
    "exp_name= 'ReasonableThalanetExample/'\n",
    "# data_folder = './../files/cluster/'\n",
    "# exp_name= ''\n",
    "# exp_name= 'neurips/brittle_policy'\n",
    "# exp_name= 'neurips/td'\n",
    "data_folder = './../files/cluster_pretrain_adam/'\n",
    "exp_name= 'random_gates_mul'\n",
    "print('current folder: ', os.getcwd())\n",
    "filenames = os.listdir(data_folder + exp_name)\n",
    "testing_log_files = [logfile for logfile in filenames if logfile.__contains__('testing_log')]\n",
    "training_log_files = [logfile for logfile in filenames if logfile.__contains__('training_log')]\n",
    "config_files = [logfile for logfile in filenames if logfile.__contains__('config')]\n",
    "# print('config files: ', config_files)\n",
    "# print('testing_logs :', testing_log_files)\n",
    "# print('training_logs :', training_log_files)"
   ]
  },
  {
   "cell_type": "code",
   "execution_count": 3,
   "id": "56583415",
   "metadata": {},
   "outputs": [
    {
     "ename": "NameError",
     "evalue": "name 'training_log' is not defined",
     "output_type": "error",
     "traceback": [
      "\u001b[0;31m---------------------------------------------------------------------------\u001b[0m",
      "\u001b[0;31mNameError\u001b[0m                                 Traceback (most recent call last)",
      "\u001b[1;32m/home/ahummos/code/multiplicative/analysis/Figure5.ipynb Cell 4'\u001b[0m in \u001b[0;36m<cell line: 1>\u001b[0;34m()\u001b[0m\n\u001b[0;32m----> <a href='vscode-notebook-cell://ssh-remote%2Bnode022/home/ahummos/code/multiplicative/analysis/Figure5.ipynb#ch0000003vscode-remote?line=0'>1</a>\u001b[0m training_log\u001b[39m.\u001b[39mswitch_trialxxbatch \u001b[39m=\u001b[39m training_log\u001b[39m.\u001b[39mswitch_trialxxbatch[\u001b[39m-\u001b[39m\u001b[39m110\u001b[39m:]\n\u001b[1;32m      <a href='vscode-notebook-cell://ssh-remote%2Bnode022/home/ahummos/code/multiplicative/analysis/Figure5.ipynb#ch0000003vscode-remote?line=1'>2</a>\u001b[0m training_log\u001b[39m.\u001b[39mtrials_to_crit \u001b[39m=\u001b[39m training_log\u001b[39m.\u001b[39mtrials_to_crit[\u001b[39m-\u001b[39m\u001b[39m110\u001b[39m:]\n\u001b[1;32m      <a href='vscode-notebook-cell://ssh-remote%2Bnode022/home/ahummos/code/multiplicative/analysis/Figure5.ipynb#ch0000003vscode-remote?line=2'>3</a>\u001b[0m training_log\u001b[39m.\u001b[39mlatents_to_crit \u001b[39m=\u001b[39m training_log\u001b[39m.\u001b[39mlatents_to_crit[\u001b[39m-\u001b[39m\u001b[39m110\u001b[39m:]\n",
      "\u001b[0;31mNameError\u001b[0m: name 'training_log' is not defined"
     ]
    }
   ],
   "source": [
    "training_log.switch_trialxxbatch = training_log.switch_trialxxbatch[-110:]\n",
    "training_log.trials_to_crit = training_log.trials_to_crit[-110:]\n",
    "training_log.latents_to_crit = training_log.latents_to_crit[-110:]"
   ]
  },
  {
   "cell_type": "code",
   "execution_count": 7,
   "id": "51338453",
   "metadata": {},
   "outputs": [
    {
     "ename": "AttributeError",
     "evalue": "'NoneType' object has no attribute 'switch_trialxxbatch'",
     "output_type": "error",
     "traceback": [
      "\u001b[0;31m---------------------------------------------------------------------------\u001b[0m",
      "\u001b[0;31mAttributeError\u001b[0m                            Traceback (most recent call last)",
      "\u001b[1;32m/home/ahummos/code/multiplicative/analysis/Figure5.ipynb Cell 5'\u001b[0m in \u001b[0;36m<cell line: 15>\u001b[0;34m()\u001b[0m\n\u001b[1;32m      <a href='vscode-notebook-cell://ssh-remote%2Bnode022/home/ahummos/code/multiplicative/analysis/Figure5.ipynb#ch0000004vscode-remote?line=5'>6</a>\u001b[0m ax \u001b[39m=\u001b[39m axes \u001b[39m# mean_bu\u001b[39;00m\n\u001b[1;32m      <a href='vscode-notebook-cell://ssh-remote%2Bnode022/home/ahummos/code/multiplicative/analysis/Figure5.ipynb#ch0000004vscode-remote?line=6'>7</a>\u001b[0m \u001b[39m# ax.plot(np.array(training_log.stamps)[x0:x1], np.array(training_log.accuracies)[x0:x1])\u001b[39;00m\n\u001b[1;32m      <a href='vscode-notebook-cell://ssh-remote%2Bnode022/home/ahummos/code/multiplicative/analysis/Figure5.ipynb#ch0000004vscode-remote?line=7'>8</a>\u001b[0m \u001b[39m# ax.set_xlim([x0, x1])\u001b[39;00m\n\u001b[1;32m      <a href='vscode-notebook-cell://ssh-remote%2Bnode022/home/ahummos/code/multiplicative/analysis/Figure5.ipynb#ch0000004vscode-remote?line=8'>9</a>\u001b[0m \u001b[39m# ax.set_ylabel('current task accuracy')\u001b[39;00m\n\u001b[0;32m   (...)\u001b[0m\n\u001b[1;32m     <a href='vscode-notebook-cell://ssh-remote%2Bnode022/home/ahummos/code/multiplicative/analysis/Figure5.ipynb#ch0000004vscode-remote?line=12'>13</a>\u001b[0m \u001b[39m# ax.set_position(mpl.transforms.Bbox([[0.125,0.32],[.9, 0.45]]))\u001b[39;00m\n\u001b[1;32m     <a href='vscode-notebook-cell://ssh-remote%2Bnode022/home/ahummos/code/multiplicative/analysis/Figure5.ipynb#ch0000004vscode-remote?line=13'>14</a>\u001b[0m \u001b[39m# ax.plot(training_log.trials_to_crit, label = 'trials to crit')\u001b[39;00m\n\u001b[0;32m---> <a href='vscode-notebook-cell://ssh-remote%2Bnode022/home/ahummos/code/multiplicative/analysis/Figure5.ipynb#ch0000004vscode-remote?line=14'>15</a>\u001b[0m ax\u001b[39m.\u001b[39mplot(training_log\u001b[39m.\u001b[39;49mswitch_trialxxbatch, training_log\u001b[39m.\u001b[39mtrials_to_crit, label \u001b[39m=\u001b[39m \u001b[39m'\u001b[39m\u001b[39mWeight updates\u001b[39m\u001b[39m'\u001b[39m, color\u001b[39m=\u001b[39m\u001b[39m'\u001b[39m\u001b[39mtab:blue\u001b[39m\u001b[39m'\u001b[39m, linewidth\u001b[39m=\u001b[39m\u001b[39m1\u001b[39m)\n\u001b[1;32m     <a href='vscode-notebook-cell://ssh-remote%2Bnode022/home/ahummos/code/multiplicative/analysis/Figure5.ipynb#ch0000004vscode-remote?line=15'>16</a>\u001b[0m ax\u001b[39m.\u001b[39mplot(training_log\u001b[39m.\u001b[39mswitch_trialxxbatch,training_log\u001b[39m.\u001b[39mtrials_to_crit, \u001b[39m'\u001b[39m\u001b[39mo\u001b[39m\u001b[39m'\u001b[39m, markersize\u001b[39m=\u001b[39m\u001b[39m4\u001b[39m, color\u001b[39m=\u001b[39m\u001b[39m'\u001b[39m\u001b[39mtab:blue\u001b[39m\u001b[39m'\u001b[39m)\n\u001b[1;32m     <a href='vscode-notebook-cell://ssh-remote%2Bnode022/home/ahummos/code/multiplicative/analysis/Figure5.ipynb#ch0000004vscode-remote?line=16'>17</a>\u001b[0m \u001b[39mfilter\u001b[39m\u001b[39m=\u001b[39m\u001b[39m10\u001b[39m\n",
      "\u001b[0;31mAttributeError\u001b[0m: 'NoneType' object has no attribute 'switch_trialxxbatch'"
     ]
    },
    {
     "data": {
      "image/png": "[encoded data removed]",
      "text/plain": [
       "<Figure size 432x288 with 1 Axes>"
      ]
     },
     "metadata": {
      "needs_background": "light"
     },
     "output_type": "display_data"
    }
   ],
   "source": [
    "# exp_name= 'neurips/td'\n",
    "data_folder = './../files/cluster_2/'\n",
    "exp_name= ''\n",
    "\n",
    "fig, axes = plt.subplots(1,1)\n",
    "ax = axes # mean_bu\n",
    "# ax.plot(np.array(training_log.stamps)[x0:x1], np.array(training_log.accuracies)[x0:x1])\n",
    "# ax.set_xlim([x0, x1])\n",
    "# ax.set_ylabel('current task accuracy')\n",
    "# ax.set_xlabel('Batches (100 trials)')\n",
    "# # print(ax.get_position())\n",
    "# # =0.125, y0=0.32195652173913036, x1=0.9, y1=0.4860869565217391\n",
    "# ax.set_position(mpl.transforms.Bbox([[0.125,0.32],[.9, 0.45]]))\n",
    "# ax.plot(training_log.trials_to_crit, label = 'trials to crit')\n",
    "ax.plot(training_log.switch_trialxxbatch, training_log.trials_to_crit, label = 'Weight updates', color='tab:blue', linewidth=1)\n",
    "ax.plot(training_log.switch_trialxxbatch,training_log.trials_to_crit, 'o', markersize=4, color='tab:blue')\n",
    "filter=10\n",
    "filtered_mean = np.convolve(np.array(training_log.trials_to_crit), np.ones(filter)/filter, 'same')\n",
    "ax.plot(training_log.switch_trialxxbatch,filtered_mean, label=f'Weight updates avg', color='tab:orange',)\n",
    "try:\n",
    "    mpl.rcParams['axes.spines.right'] = True\n",
    "    ax2 =  ax.twinx()\n",
    "    ax2.set_ylabel('Latent updates', color= 'tab:red') \n",
    "    ax2.plot(training_log.switch_trialxxbatch,np.clip(np.array(training_log.latents_to_crit),0, a_max=1000), 'x',markersize=4,color='tab:red', label = 'Latent updates')\n",
    "    ax2.tick_params(axis='y', color='tab:red', labelcolor='tab:red')\n",
    "    mpl.rcParams['axes.spines.right'] = False\n",
    "except:\n",
    "    pass\n",
    "ax.set_ylabel('Weight updates to criterion')\n",
    "ax.set_xlabel('Trials')\n",
    "# ax.set_xlim([x0, x1])\n",
    "# ax.set_ylim(0, 100)#filtered_mean.max()*1.5)\n",
    "ax.legend()\n"
   ]
  },
  {
   "cell_type": "code",
   "execution_count": 5,
   "id": "3ab5b14b",
   "metadata": {},
   "outputs": [],
   "source": [
    "seed = 9\n",
    "loops = 1000.0\n",
    "task_rule = 4.0\n",
    "no_of_tasks = 3\n",
    "var4  = 1.0\n",
    "def load_simulation(data_folder, exp_name, seed, loops, task_rule, var4, no_of_tasks):\n",
    "    search_strs=[f'seed{seed}_', f'tasks_{no_of_tasks}_{loops:3.1f}_{task_rule:1.1f}_{var4:1.1f}']\n",
    "    testing_logs, test_files = get_logs_and_files(data_folder, exp_name, file_sig='testing_log', search_strs=search_strs)\n",
    "    training_logs, train_files = get_logs_and_files(data_folder, exp_name, file_sig='training_log', search_strs=search_strs)\n",
    "    configs, config_files = get_logs_and_files(data_folder, exp_name, file_sig='config', search_strs=search_strs)\n",
    "    config_files\n",
    "    \n",
    "    if len(training_logs) > 0:\n",
    "        testing_log = testing_logs[0]\n",
    "        training_log = training_logs[0]\n",
    "        config = configs[0]\n",
    "        assert len(training_logs) == 1, 'more than one training_log found!'\n",
    "    else:\n",
    "        print( f'unable to load {search_strs}!')\n",
    "        testing_log, training_log, config = None, None, None        \n",
    "    return config,training_log,testing_log\n",
    "\n",
    "\n",
    "config, training_log, testing_log = load_simulation(data_folder, exp_name, seed, loops, task_rule, var4, no_of_tasks)"
   ]
  },
  {
   "cell_type": "code",
   "execution_count": 6,
   "id": "6c01695d",
   "metadata": {},
   "outputs": [
    {
     "name": "stdout",
     "output_type": "stream",
     "text": [
      "unable to load ['seed0_', 'tasks_5_1000.0_4.0_1.0']!\n",
      "unable to load ['seed1_', 'tasks_5_1000.0_4.0_1.0']!\n",
      "unable to load ['seed2_', 'tasks_5_1000.0_4.0_1.0']!\n",
      "unable to load ['seed3_', 'tasks_5_1000.0_4.0_1.0']!\n",
      "unable to load ['seed4_', 'tasks_5_1000.0_4.0_1.0']!\n",
      "unable to load ['seed5_', 'tasks_5_1000.0_4.0_1.0']!\n",
      "unable to load ['seed6_', 'tasks_5_1000.0_4.0_1.0']!\n",
      "unable to load ['seed7_', 'tasks_5_1000.0_4.0_1.0']!\n",
      "unable to load ['seed8_', 'tasks_5_1000.0_4.0_1.0']!\n",
      "unable to load ['seed9_', 'tasks_5_1000.0_4.0_1.0']!\n",
      "unable to load ['seed10_', 'tasks_5_1000.0_4.0_1.0']!\n",
      "unable to load ['seed11_', 'tasks_5_1000.0_4.0_1.0']!\n",
      "unable to load ['seed12_', 'tasks_5_1000.0_4.0_1.0']!\n",
      "unable to load ['seed13_', 'tasks_5_1000.0_4.0_1.0']!\n",
      "unable to load ['seed14_', 'tasks_5_1000.0_4.0_1.0']!\n"
     ]
    }
   ],
   "source": [
    "no_of_tasks=5\n",
    "for seed in range(15):\n",
    "    try:\n",
    "        config, training_log, testing_log = load_simulation(data_folder, exp_name, seed, loops, task_rule, var4, no_of_tasks)\n",
    "        plot_long_term_cluster_discovery(config, training_log, testing_log)\n",
    "    except:\n",
    "        pass"
   ]
  },
  {
   "cell_type": "code",
   "execution_count": null,
   "id": "f03200cd",
   "metadata": {},
   "outputs": [],
   "source": [
    "training_log = np.load('./../files/cluster_2/training_log_seed11_paradigm_seq_mul_tasks_2_100.0_0.0_1.0_.npy', allow_pickle=True).item()"
   ]
  },
  {
   "cell_type": "markdown",
   "id": "659fde82",
   "metadata": {},
   "source": [
    "## Newer results"
   ]
  },
  {
   "cell_type": "code",
   "execution_count": 9,
   "id": "6be59d7a",
   "metadata": {},
   "outputs": [],
   "source": [
    "def load_simulation(data_folder, exp_name, seed, var1, var3, var4, no_of_tasks, dataset):\n",
    "    search_strs=[f'seed{seed}_', f'tasks_{no_of_tasks}_',dataset, f'{var1:3.1f}_{var3:1.1f}_{var4:1.1f}']\n",
    "    testing_logs, test_files = get_logs_and_files(data_folder, exp_name, file_sig='testing_log', search_strs=search_strs)\n",
    "    training_logs, train_files = get_logs_and_files(data_folder, exp_name, file_sig='training_log', search_strs=search_strs)\n",
    "    configs, config_files = get_logs_and_files(data_folder, exp_name, file_sig='config', search_strs=search_strs)\n",
    "    config_files\n",
    "    \n",
    "    if len(training_logs) > 0:\n",
    "        testing_log = testing_logs[0]\n",
    "        training_log = training_logs[0]\n",
    "        config = configs[0]\n",
    "        assert len(training_logs) == 1, 'more than one training_log found!'\n",
    "    else:\n",
    "        print( f'unable to load {search_strs}!')\n",
    "        testing_log, training_log, config = None, None, None        \n",
    "    return config,training_log,testing_log"
   ]
  },
  {
   "cell_type": "code",
   "execution_count": 10,
   "id": "80b2358d",
   "metadata": {},
   "outputs": [
    {
     "name": "stdout",
     "output_type": "stream",
     "text": [
      "unable to load ['seed1_', 'tasks_5_', 'neurogym', '1.0_1000.0_1.0']!\n",
      "unable to load ['seed4_', 'tasks_5_', 'neurogym', '1.0_1000.0_1.0']!\n",
      "unable to load ['seed6_', 'tasks_5_', 'neurogym', '1.0_1000.0_1.0']!\n",
      "unable to load ['seed7_', 'tasks_5_', 'neurogym', '1.0_1000.0_1.0']!\n",
      "unable to load ['seed8_', 'tasks_5_', 'neurogym', '1.0_1000.0_1.0']!\n",
      "unable to load ['seed9_', 'tasks_5_', 'neurogym', '1.0_1000.0_1.0']!\n",
      "unable to load ['seed10_', 'tasks_5_', 'neurogym', '1.0_1000.0_1.0']!\n",
      "unable to load ['seed15_', 'tasks_5_', 'neurogym', '1.0_1000.0_1.0']!\n",
      "unable to load ['seed16_', 'tasks_5_', 'neurogym', '1.0_1000.0_1.0']!\n",
      "unable to load ['seed17_', 'tasks_5_', 'neurogym', '1.0_1000.0_1.0']!\n",
      "unable to load ['seed18_', 'tasks_5_', 'neurogym', '1.0_1000.0_1.0']!\n",
      "unable to load ['seed19_', 'tasks_5_', 'neurogym', '1.0_1000.0_1.0']!\n"
     ]
    },
    {
     "data": {
      "text/plain": [
       "Text(0, 0.5, 'total compute')"
      ]
     },
     "execution_count": 10,
     "metadata": {},
     "output_type": "execute_result"
    },
    {
     "name": "stderr",
     "output_type": "stream",
     "text": [
      "findfont: Font family ['arial'] not found. Falling back to DejaVu Sans.\n"
     ]
    },
    {
     "data": {
      "image/png": "[encoded data removed]",
      "text/plain": [
       "<Figure size 432x288 with 6 Axes>"
      ]
     },
     "metadata": {
      "needs_background": "light"
     },
     "output_type": "display_data"
    }
   ],
   "source": [
    "exp_name = 'random_gates_mul'\n",
    "# data_folder = './../files/cluster_pretrain_opposites_1000/'\n",
    "# data_folder = './../files/cluster_pretrain_actual_opposites/'\n",
    "data_folder = './../files/cluster_pretrain_adam/'\n",
    "data_folder = './../files/paper_data/cluster_neurogym_thalamus_vs_rnn/'\n",
    "dataset = 'neurogym'\n",
    "# from utils import load_simulation\n",
    "exps = []\n",
    "data = defaultdict(list)\n",
    "no_of_tasks = 5\n",
    "for var1 in [0.0, 1.0 ]:\n",
    "    for var3 in [1000.0]:\n",
    "        for var4 in [1.0]:\n",
    "            for seed in range(1,20):\n",
    "                config, training_log, testing_log = load_simulation(data_folder, exp_name, seed, var1, var3, var4, no_of_tasks, dataset)\n",
    "                if not config is None: # if exp actually loaded and exists.\n",
    "                    exps.append({'var1': var1, 'var3': var3, 'no_of_tasks': no_of_tasks, 'seed': seed, 'var4': var4})\n",
    "                    testing_idx = int((15- no_of_tasks) *2) +1\n",
    "                    data['ttcs'].append(training_log.trials_to_crit[:-testing_idx])\n",
    "                    data['ttcs40'].append(training_log.trials_to_crit[-testing_idx-20:-testing_idx])\n",
    "                    # data['ltcs40'].append(training_log.latents_to_crit[-testing_idx-20:-testing_idx])\n",
    "                    data['latent_updates'].append(training_log.latents_to_crit[:-testing_idx])\n",
    "                    data['total_compute'].append(np.stack(training_log.latents_to_crit[-testing_idx-20:-testing_idx]) + np.stack(training_log.trials_to_crit[-testing_idx-20:-testing_idx]))\n",
    "                    data['accuracy'].append(training_log.accuracies[training_log.start_testing_at-500:training_log.start_testing_at])\n",
    "                    # data['total_batches'].append(training_log.stamps[-1])\n",
    "\n",
    "fig, axes = plt.subplots(2,3, sharey=False)\n",
    "var11 = 0.0\n",
    "var12 = 1\n",
    "var3 = 1000.0\n",
    "var4 = 1.0\n",
    "filter = 5\n",
    "ax = axes[0,0]\n",
    "ttcs = np.stack([data['ttcs'][i]  for i in range(len(data['ttcs'])) if exps[i]['var1'] == var11 and exps[i]['var3'] == var3 and exps[i]['var4'] == var4])\n",
    "ax.plot(np.convolve(ttcs.mean(0), np.ones(filter)/filter, 'valid'), label = 'no latent updates')\n",
    "ttcs = np.stack([data['ttcs'][i]  for i in range(len(data['ttcs'])) if exps[i]['var1'] == var12 and exps[i]['var3'] == var3 and exps[i]['var4'] == var4])\n",
    "ax.plot(np.convolve(ttcs.mean(0), np.ones(filter)/filter, 'valid'), label = 'latent updates')\n",
    "ax.plot(ax.get_xlim(), [0, 0], ':')\n",
    "ax.set_ylabel('Trials to criterion')\n",
    "ax.legend()\n",
    "\n",
    "ax = axes[0,1]\n",
    "# ttcs = np.stack([data['latent_updates'][i]  for i in range(len(data['latent_updates'])) if exps[i]['var1'] == var11 and exps[i]['var3'] == 0.0 and exps[i]['var4'] == var4])\n",
    "# ax.plot(ttcs.mean(0), label = 'no latent updates\\n with task id')\n",
    "ttcs = np.stack([data['latent_updates'][i]  for i in range(len(data['latent_updates'])) if exps[i]['var1'] == var12 and exps[i]['var3'] == var3 and exps[i]['var4'] == var4])\n",
    "ax.plot(np.convolve(ttcs.mean(0), np.ones(filter)/filter, 'valid'), label = 'latent updates')\n",
    "ax.set_ylabel('No of latent updates per task')\n",
    "ax.axhline(0, linestyle=':')\n",
    "ax.set_title(f'No of tasks: {no_of_tasks}')\n",
    "ax.legend()\n",
    "\n",
    "ax = axes[1,0]\n",
    "ttcs = np.stack([data['ttcs40'][i]  for i in range(len(data['ttcs40'])) if exps[i]['var1'] == var11 and exps[i]['var3'] == var3 and exps[i]['var4'] == var4])\n",
    "ax.plot(np.convolve(ttcs.mean(0), np.ones(filter)/filter, 'valid'), label = 'no latent updates')\n",
    "weight_ttcs_means = ttcs\n",
    "# m, s = ttcs.mean(0), ttcs.std(0)\n",
    "# ax.fill_between(range(len(m)), m-s, m+s, alpha=0.3, )\n",
    "ttcs = np.stack([data['ttcs40'][i]  for i in range(len(data['ttcs40'])) if exps[i]['var1'] == var12 and exps[i]['var3'] == var3 and exps[i]['var4'] == var4])\n",
    "latent_ttcs_means = ttcs\n",
    "m, s = ttcs.mean(0), ttcs.std(0)\n",
    "ax.fill_between(range(len(m)), m-s, m+s, alpha=0.3, color='tab:orange')\n",
    "ax.plot(np.convolve(ttcs.mean(0), np.ones(filter)/filter, 'valid'), label = 'latent updates')\n",
    "ax.plot(ax.get_xlim(), [0, 0], ':')\n",
    "ax.set_ylim([0, 40])\n",
    "ax.set_ylabel('Trials to criterion')\n",
    "ax.legend()\n",
    "\n",
    "ax = axes[1,1]\n",
    "accs_weight_updates = np.stack([data['accuracy'][i]  for i in range(len(data['accuracy'])) if exps[i]['var1'] == var11 and exps[i]['var3'] == var3 and exps[i]['var4'] == var4])\n",
    "# ax.plot(ttcs.mean(0), label = 'no latent updates\\n with task id')\n",
    "accs_Thalamus = np.stack([data['accuracy'][i]  for i in range(len(data['accuracy'])) if exps[i]['var1'] == var12 and exps[i]['var3'] == var3 and exps[i]['var4'] == var4])\n",
    "# ax.plot(ttcs.mean(0), label = 'latent updates with task id')\n",
    "_=ax.boxplot( [accs_weight_updates.mean(1), accs_Thalamus.mean(1)], labels=['Weight_updates', 'Thalamus'],notch=True)\n",
    "# ax.plot(ax.get_xlim(), [0, 0], ':')\n",
    "# ax.legend()\n",
    "\n",
    "ax = axes[0,2]\n",
    "_=ax.boxplot( [weight_ttcs_means.mean(1), latent_ttcs_means.mean(1)], labels=['Weight_updates', 'Thalamus'],notch=True)\n",
    "ax.set_ylabel('last 40 ttcs mean')\n",
    "\n",
    "ax = axes[1,2]\n",
    "compute_weight_updates = np.stack([data['total_compute'][i]  for i in range(len(data['total_compute'])) if exps[i]['var1'] == var11 and exps[i]['var3'] == var3 and exps[i]['var4'] == var4])\n",
    "# ax.plot(ttcs.mean(0), label = 'no latent updates\\n with task id')\n",
    "compute_Thalamus = np.stack([data['total_compute'][i]  for i in range(len(data['total_compute'])) if exps[i]['var1'] == var12 and exps[i]['var3'] == var3 and exps[i]['var4'] == var4])\n",
    "# ax.plot(ttcs.mean(0), label = 'latent updates with task id')\n",
    "_=ax.boxplot( [compute_weight_updates.mean(1), compute_Thalamus.mean(1)], labels=['Weight_updates', 'Thalamus'],notch=True)\n",
    "ax.set_ylabel('total compute')\n",
    "\n",
    "# plt.savefig('./files/saved.jpg', dpi=300)\n"
   ]
  },
  {
   "cell_type": "code",
   "execution_count": 9,
   "id": "3022388e",
   "metadata": {},
   "outputs": [
    {
     "data": {
      "image/png": "[encoded data removed]",
      "text/plain": [
       "<Figure size 256.126x113.834 with 2 Axes>"
      ]
     },
     "metadata": {
      "needs_background": "light"
     },
     "output_type": "display_data"
    }
   ],
   "source": [
    "fig, axes = plt.subplots(1,2, sharey=False, figsize = [9/2.53, 4/2.53])\n",
    "\n",
    "filter = 10\n",
    "ax = axes[0]\n",
    "ttcs = np.stack([data['ttcs'][i]  for i in range(len(data['ttcs'])) if exps[i]['var1'] == var11 and exps[i]['var3'] == var3 and exps[i]['var4'] == var4])\n",
    "ax.plot(np.convolve(ttcs.mean(0), np.ones(filter)/filter, 'valid'), label = 'RNN')\n",
    "ttcs = np.stack([data['ttcs'][i]  for i in range(len(data['ttcs'])) if exps[i]['var1'] == var12 and exps[i]['var3'] == var3 and exps[i]['var4'] == var4])\n",
    "ax.plot(np.convolve(ttcs.mean(0), np.ones(filter)/filter, 'valid'), label = 'Thalamus')\n",
    "# ax.plot(ax.get_xlim(), [0, 0], ':')\n",
    "ax.set_ylabel('Weight updates to criterion')\n",
    "ax.set_xlabel('Task ordinal position')\n",
    "ax.legend()\n",
    "# m, s = ttcs.mean(0), ttcs.std(0)\n",
    "# ax.fill_between(range(len(m)), m-s, m+s, alpha=0.3, color='tab:orange')\n",
    "\n",
    "ax = axes[1]\n",
    "# ttcs = np.stack([data['latent_updates'][i]  for i in range(len(data['latent_updates'])) if exps[i]['loop'] == loop1 and exps[i]['task_rule'] == 0.0 and exps[i]['var4'] == var4])\n",
    "# ax.plot(ttcs.mean(0), label = 'no latent updates\\n with task id')\n",
    "ttcs = np.stack([data['latent_updates'][i]  for i in range(len(data['latent_updates'])) if exps[i]['var1'] == var12 and exps[i]['var3'] == var3 and exps[i]['var4'] == var4])\n",
    "ax.plot(np.convolve(ttcs.mean(0), np.ones(filter)/filter, 'same'), label = 'Thalamus', color='tab:orange')\n",
    "\n",
    "ax.set_ylabel('Latent updates to criterion')\n",
    "# ax.plot(ax.get_xlim(), [0, 0], ':')\n",
    "ax.set_xlabel('Task ordinal position')\n",
    "ax.legend()\n",
    "fig.tight_layout()\n",
    "plt.savefig('./files/pdfs/quantifyingTHalamus.pdf', dpi=300)"
   ]
  },
  {
   "cell_type": "code",
   "execution_count": 68,
   "id": "f3b40a24",
   "metadata": {},
   "outputs": [],
   "source": [
    "def get_mean_sem(data):\n",
    "    sem = np.std(data, ddof=1) / np.sqrt(np.size(data))\n",
    "    mean = np.mean(data)\n",
    "    # python\n",
    "    # return(f'{mean:1.2f} ' + (u\"\\u00B1\")+f' {sem:1.2f}')\n",
    "    #latex\n",
    "    return(f'{mean:1.2f} ' + '$\\\\pm$' + f' {sem:1.2f}')\n"
   ]
  },
  {
   "cell_type": "code",
   "execution_count": 69,
   "id": "21cb079c",
   "metadata": {},
   "outputs": [
    {
     "name": "stdout",
     "output_type": "stream",
     "text": [
      "RNN & 23.73 $\\pm$ 1.21 & 23.73 $\\pm$ 1.21 & 0.91 $\\pm$ 0.00 \\\\\n",
      "Thalamus & 23.73 $\\pm$ 1.21 & 23.73 $\\pm$ 1.21 & 0.91 $\\pm$ 0.00 \\\\\n"
     ]
    }
   ],
   "source": [
    "[]\n",
    "\n",
    "print('RNN', '&', get_mean_sem(compute_weight_updates), '&', get_mean_sem(weight_ttcs_means), '&', get_mean_sem(accs_weight_updates),'\\\\\\\\')\n",
    "print('Thalamus', '&', get_mean_sem(compute_weight_updates), '&', get_mean_sem(weight_ttcs_means), '&', get_mean_sem(accs_weight_updates),'\\\\\\\\')\n",
    "\n"
   ]
  },
  {
   "cell_type": "code",
   "execution_count": 70,
   "id": "fd1b5b84",
   "metadata": {},
   "outputs": [
    {
     "name": "stdout",
     "output_type": "stream",
     "text": [
      "Model  & No of Weight updates  & Avg transition accuracy  & Weight+latent updates (Compute) \\\\\n",
      "RNN  & 23.73 $\\pm$ 1.21  & 0.91 $\\pm$ 0.00  & 23.73 $\\pm$ 1.21 \\\\\n",
      "Thalamus  & 3.64 $\\pm$ 0.50  & 0.96 $\\pm$ 0.00  & 271.56 $\\pm$ 55.28 \\\\\n"
     ]
    }
   ],
   "source": [
    "Labels = [ 'No of Weight updates','Avg transition accuracy', 'Weight+latent updates (Compute)']\n",
    "RNN_data = [weight_ttcs_means, accs_weight_updates, compute_weight_updates]\n",
    "Thalamus_data = [latent_ttcs_means, accs_Thalamus, compute_Thalamus]\n",
    "\n",
    "print('Model',    *[' & ' + label for label in Labels], '\\\\\\\\')\n",
    "print('RNN',      *[' & ' + get_mean_sem(rd) for rd in RNN_data] ,'\\\\\\\\')\n",
    "print('Thalamus', *[' & ' + get_mean_sem(rd) for rd in Thalamus_data] ,'\\\\\\\\')\n",
    "    \n"
   ]
  },
  {
   "cell_type": "code",
   "execution_count": 11,
   "id": "6e5c0cde",
   "metadata": {},
   "outputs": [],
   "source": [
    "no_of_tasks=5\n",
    "for seed in range(15):\n",
    "    try:\n",
    "        config, training_log, testing_log = load_simulation(data_folder, exp_name, seed, var1, var3, var4, no_of_tasks, dataset)\n",
    "        print('seed: ', seed)\n",
    "        plot_long_term_cluster_discovery(config, training_log, testing_log)\n",
    "    except:\n",
    "        pass"
   ]
  },
  {
   "cell_type": "code",
   "execution_count": 15,
   "id": "58983d2a",
   "metadata": {},
   "outputs": [
    {
     "name": "stdout",
     "output_type": "stream",
     "text": [
      "Thalamus :\n",
      "\n",
      "Mean ratio solved:  0.2777777777777778 +- 0.14163943093313291\n",
      "Mean average:  0.4912222 +- 0.11019460867911161\n",
      "CAI :\n",
      "\n",
      "Mean ratio solved:  0.2 +- 0.12649110640673517\n",
      "Mean average:  0.46977776 +- 0.10691530280623167\n",
      "RNN :\n",
      "\n",
      "Mean ratio solved:  0.2111111111111111 +- 0.12905162140652987\n",
      "Mean average:  0.43555558 +- 0.11053416699467443\n"
     ]
    }
   ],
   "source": [
    "\n",
    "data_folder = './../files/paper_data/cluster_neurogym_tasks10_to_convergence2/'\n",
    "dataset = 'neurogym'\n",
    "exp_name= 'random_gates_mul'\n",
    "# from utils import load_simulation\n",
    "exps = []\n",
    "data = defaultdict(list)\n",
    "no_of_tasks=10\n",
    "for var1 in [0.0, 1.0 ]:  # 1.0 for using latent updates(Thalamus)  0.0 for WU \n",
    "    for var3 in [1000.0]:\n",
    "        for var4 in [0.0, 1.0]: ## 0.0 for using task IDs  1.0 for THalamus\n",
    "            for seed in range(1,10):\n",
    "                if var1 == 1.0 and var4== 0.0: continue\n",
    "                config, training_log, testing_log = load_simulation(data_folder, exp_name, seed, var1, var3, var4, no_of_tasks, dataset)\n",
    "                if not config is None: # if exp actually loaded and exists.\n",
    "                    exps.append({'var1': var1, 'var3': var3, 'no_of_tasks': no_of_tasks, 'seed': seed, 'var4': var4})\n",
    "                    end_accs = np.array(training_log.accuracies)[np.array(training_log.switch_trialxxbatch[-10:])-1]\n",
    "                    end_accs_recorded = np.array(training_log.testing_accuracies)\n",
    "                    data['end_accs'].append(end_accs)\n",
    "                    # data['end_accs_recorded'].append(end_accs_recorded)\n",
    "                    # print('accuracies at the end of each task', end_accs)\n",
    "                    # print('solved ratio: ', np.mean(end_accs>= 0.7))\n",
    "Thalamus = [1.0, 1.0]\n",
    "CAI = [0.0, 0.0]\n",
    "RNN = [0.0, 1.0]\n",
    "tags = [Thalamus, CAI, RNN]\n",
    "labels = ['Thalamus', 'CAI', 'RNN']\n",
    "for p in range(3):\n",
    "    print(labels[p], ':\\n')\n",
    "    # data = [dat for dat in data['end_accs']]\n",
    "    dat = [data['end_accs'][i]  for i in range(len(data['end_accs'])) if exps[i]['var1'] == tags[p][0] and exps[i]['var4'] == tags[p][1]]\n",
    "    dat_recorded = [data['end_accs_recorded'][i]  for i in range(len(data['end_accs_recorded'])) if exps[i]['var1'] == tags[p][0] and exps[i]['var4'] == tags[p][1]]\n",
    "    # dat = [data['end_accs'][i]  for i in range(len(data['end_accs'])) ]\n",
    "    solved_thresh_accuracy = 0.8\n",
    "    print('Mean ratio solved: ', np.mean(np.array(dat)>=solved_thresh_accuracy), '+-', np.std(np.array(dat)>=solved_thresh_accuracy)/np.sqrt(10))\n",
    "    print('Mean average: ', np.mean(np.array(dat)), '+-', np.std(np.array(dat))/np.sqrt(10))\n",
    "# fig, axes = plt.subplots(2,3, sharey=False)\n",
    "    # print('Mean ratio solved_recorded: ', np.mean(np.hstack(dat_recorded)>=0.7), '+-', np.std(np.hstack(dat_recorded)>=0.7)/np.sqrt(10))\n",
    "    # print('Mean average_recorded: ', np.mean(np.hstack(dat_recorded)), '+-', np.std(np.hstack(dat_recorded))/np.sqrt(10))"
   ]
  },
  {
   "cell_type": "markdown",
   "id": "36ba323e",
   "metadata": {},
   "source": [
    "Below is just some random stuff\n",
    "\n",
    "\n",
    "\n",
    "\n"
   ]
  },
  {
   "cell_type": "code",
   "execution_count": 88,
   "id": "d7fad774",
   "metadata": {},
   "outputs": [
    {
     "name": "stdout",
     "output_type": "stream",
     "text": [
      "20\n",
      "[0, 0, 0, 0, 0, 0, 0, 0, 0, 0, 0, 0, 0, 0, 0, 0, 0, 0, 0, 0]\n",
      "[9, 199, 199, 8, 199, 199, 199, 199, 199, 199, 10, 199, 199, 7, 199, 199, 199, 199, 199, 199]\n"
     ]
    }
   ],
   "source": [
    "config, training_log, testing_log = load_simulation(data_folder, exp_name, 2, var1, var3, var4, no_of_tasks, dataset)\n",
    "real_testing_idx = testing_idx-1\n",
    "print(len(training_log.trials_to_crit[-real_testing_idx:]))\n",
    "print((training_log.trials_to_crit[-real_testing_idx:]))\n",
    "print((training_log.latents_to_crit[-real_testing_idx:]))\n"
   ]
  },
  {
   "cell_type": "code",
   "execution_count": 107,
   "id": "b59c78a4",
   "metadata": {},
   "outputs": [
    {
     "data": {
      "text/plain": [
       "array([0.57      , 0.57      , 0.45999998, 0.65      , 0.63      ,\n",
       "       0.63      , 0.69      , 0.68      , 0.7       , 0.65      ],\n",
       "      dtype=float32)"
      ]
     },
     "execution_count": 107,
     "metadata": {},
     "output_type": "execute_result"
    }
   ],
   "source": [
    "cum_idz = np.cumsum(training_log.latents_to_crit[-real_testing_idx:])\n",
    "np.array(training_log.accuracies)[cum_idz[-1]-5: cum_idz[-1]+5]"
   ]
  },
  {
   "cell_type": "code",
   "execution_count": 2,
   "id": "3fb4be5a",
   "metadata": {},
   "outputs": [],
   "source": [
    "def plot_long_term_cluster_discovery( config, training_log, testing_log,end):\n",
    "    # if len(training_log.bu_context_ids) > 0: context_ids =  training_log.bu_context_ids\n",
    "    if len(training_log.td_context_ids) > 0: context_ids =  training_log.td_context_ids\n",
    "    elif len(training_log.md_context_ids) > 0: context_ids =  training_log.md_context_ids\n",
    "    else: \n",
    "        policy_context_id = np.ones([1,config.md_size])/config.md_size\n",
    "        context_ids = [policy_context_id.repeat(config.batch_size, 0)] * training_log.stamps[-1]\n",
    "\n",
    "\n",
    "    # x0, x1 = 0, training_log.stamps[-1]\n",
    "    x0, x1 = 0, end#training_log.start_testing_at\n",
    "    no_of_values = len(config.tasks)\n",
    "    norm = mpl.colors.Normalize(vmin=min([0,no_of_values]), vmax=max([0,no_of_values]))\n",
    "    cmap_obj = mpl.cm.get_cmap('Set1') # tab20b tab20\n",
    "    cmap = mpl.cm.ScalarMappable(norm=norm, cmap=cmap_obj)\n",
    "\n",
    "    switches=  training_log.switch_trialxxbatch[:] \n",
    "    # switches=  training_log.switch_trialxxbatch[1:] # earlier on I must have added zero as a switch trial \n",
    "\n",
    "    fig, axes = plt.subplots(3,1, figsize=[16/2.53,3], sharex = False)\n",
    "\n",
    "    ax = axes[0]\n",
    "    # ax.set_position(mpl.transforms.Bbox([[0.125, 0.715], [.747, 0.880]]))\n",
    "    ax.plot(np.array(training_log.stamps)[x0:x1], np.array(training_log.accuracies)[x0:x1], linewidth=1)\n",
    "    for ri in range(len(switches)-1):\n",
    "        ax.axvspan(training_log.switch_trialxxbatch[ri], training_log.switch_trialxxbatch[ri]+1, color =cmap.to_rgba(training_log.switch_task_id[ri]) , alpha=0.5)\n",
    "        id = training_log.switch_task_id[ri]\n",
    "        task_name = config.human_task_names[id]\n",
    "        if training_log.switch_trialxxbatch[ri] < x1:\n",
    "            ax.text(training_log.switch_trialxxbatch[ri], 1.0 + np.random.uniform(-0.1, 0.25), task_name, color= cmap.to_rgba(id) , fontsize=7)\n",
    "    ax.set_ylabel('current task accuracy')\n",
    "    ax.set_xlim([x0, x1])\n",
    "    # print('axis 0 position: ',ax.get_position())\n",
    "    \n",
    "    ax = axes[1] # context ids\n",
    "    md = np.stack([m[0] for m in context_ids])\n",
    "    # print(fig.get_axes())\n",
    "    im = sns.heatmap(md.T, cmap='Reds', ax = ax)#, vmax=md.max()/3)\n",
    "    # print(fig.get_axes())\n",
    "    # print('colorbar pos:', fig.get_axes()[-1].get_position())\n",
    "    fig.get_axes()[-1].set_position(mpl.transforms.Bbox([[0.9037,0.39],[.90785, 0.600]]))\n",
    "    # ax.get_shared_x_axes().join(ax, axes[0])\n",
    "    ax.set_xticks(axes[0].get_xticks()[:-1])\n",
    "    ax.set_xticklabels(axes[0].get_xticklabels()[:-1], rotation=0)\n",
    "    # ax.set_xlabel('Batches (100 trials)')\n",
    "    ax.set_ylabel('Latent z vector')\n",
    "    ax.set_position(mpl.transforms.Bbox([[0.125,0.39],[.902, 0.613]]))\n",
    "    # ax.set_position(mpl.transforms.Bbox([[0.125,0.52],[.99, 0.683]]))\n",
    "    # print(ax.get_position())\n",
    "    ax.set_xlim([x0, x1])\n",
    "\n",
    "    ax = axes[2] # mean_bu\n",
    "    # ax.plot(np.array(training_log.stamps)[x0:x1], np.array(training_log.accuracies)[x0:x1])\n",
    "    # ax.set_xlim([x0, x1])\n",
    "    # ax.set_ylabel('current task accuracy')\n",
    "    # ax.set_xlabel('Batches (100 trials)')\n",
    "    # # print(ax.get_position())\n",
    "    # # =0.125, y0=0.32195652173913036, x1=0.9, y1=0.4860869565217391\n",
    "    # ax.set_position(mpl.transforms.Bbox([[0.125,0.32],[.9, 0.45]]))\n",
    "    # ax.plot(training_log.trials_to_crit, label = 'trials to crit')\n",
    "    ax.plot(training_log.switch_trialxxbatch, training_log.trials_to_crit, label = 'Weight updates', color='tab:blue', linewidth=1)\n",
    "    ax.plot(training_log.switch_trialxxbatch,training_log.trials_to_crit, 'o', markersize=4, color='tab:blue')\n",
    "    filter=10\n",
    "    filtered_mean = np.convolve(np.array(training_log.trials_to_crit), np.ones(filter)/filter, 'same')\n",
    "    try:\n",
    "        ax.plot(training_log.switch_trialxxbatch,filtered_mean, label=f'Weight updates avg', color='tab:orange',)\n",
    "        mpl.rcParams['axes.spines.right'] = True\n",
    "        ax2 =  ax.twinx()\n",
    "        ax2.set_ylabel('Latent updates', color= 'tab:red') \n",
    "        ax2.plot(training_log.switch_trialxxbatch,np.clip(np.array(training_log.latents_to_crit),0, a_max=1000), 'x',markersize=4,color='tab:red', label = 'Latent updates')\n",
    "        # ax2.plot([la[0]for la in training_log.lu_stamps_acc_improve], np.stack([la[1]for la in training_log.lu_stamps_acc_improve])*1000, '.', color='tab:green')\n",
    "        ax2.tick_params(axis='y', color='tab:red', labelcolor='tab:red')\n",
    "        ax2.legend(loc=\"lower right\")\n",
    "        mpl.rcParams['axes.spines.right'] = False\n",
    "    except:\n",
    "        pass\n",
    "    ax.set_ylabel('Weight updates to criterion')\n",
    "    ax.set_xlabel('Trials')\n",
    "    ax.set_xlim([x0, x1])\n",
    "    ax.set_ylim(0, 100)#filtered_mean.max()*1.5)\n",
    "    if hasattr(training_log, 'converged_detected_at'):\n",
    "        ax.axvline(training_log.converged_detected_at, color='tab:green', alpha=0.5, linewidth=2, label='Converged')\n",
    "    ax.legend()\n",
    "    # print(ax.get_position())\n",
    "    ax.set_position(mpl.transforms.Bbox([[0.125,0.125],[.90, 0.33]]))\n",
    "    identifiers = 9\n",
    "    # plt.savefig(f'./files/candidates/5/thalanet_{seed}_{no_of_tasks}.pdf', dpi=300)\n",
    "# plot_long_term_cluster_discovery(config, training_log, testing_log)"
   ]
  },
  {
   "cell_type": "code",
   "execution_count": 112,
   "id": "737d731c",
   "metadata": {},
   "outputs": [
    {
     "name": "stdout",
     "output_type": "stream",
     "text": [
      "18218\n",
      "18238\n"
     ]
    }
   ],
   "source": [
    "print(cum_idz[-1] + training_log.start_testing_at)\n",
    "print(len(training_log.accuracies))"
   ]
  },
  {
   "cell_type": "code",
   "execution_count": null,
   "id": "bd54bda4",
   "metadata": {},
   "outputs": [
    {
     "ename": "NameError",
     "evalue": "name 'config' is not defined",
     "output_type": "error",
     "traceback": [
      "\u001b[0;31m---------------------------------------------------------------------------\u001b[0m",
      "\u001b[0;31mNameError\u001b[0m                                 Traceback (most recent call last)",
      "\u001b[0;32m/tmp/ipykernel_20109/4255513097.py\u001b[0m in \u001b[0;36m<module>\u001b[0;34m\u001b[0m\n\u001b[1;32m     99\u001b[0m         \u001b[0mplt\u001b[0m\u001b[0;34m.\u001b[0m\u001b[0msavefig\u001b[0m\u001b[0;34m(\u001b[0m\u001b[0;34m'./../files/'\u001b[0m\u001b[0;34m+\u001b[0m \u001b[0mconfig\u001b[0m\u001b[0;34m.\u001b[0m\u001b[0mexp_name\u001b[0m\u001b[0;34m+\u001b[0m\u001b[0;34mf'/CAI_summary_{config.exp_signature}_bu_optimizing_many_batches.jpg'\u001b[0m\u001b[0;34m,\u001b[0m \u001b[0mdpi\u001b[0m\u001b[0;34m=\u001b[0m\u001b[0;36m300\u001b[0m\u001b[0;34m)\u001b[0m\u001b[0;34m\u001b[0m\u001b[0;34m\u001b[0m\u001b[0m\n\u001b[1;32m    100\u001b[0m         \u001b[0;31m# plt.savefig('./../files/'+ config.exp_name+f'/CAI_summary_{config.exp_signature}_policy_optimizing.jpg', dpi=200)\u001b[0m\u001b[0;34m\u001b[0m\u001b[0;34m\u001b[0m\u001b[0;34m\u001b[0m\u001b[0m\n\u001b[0;32m--> 101\u001b[0;31m \u001b[0mplot_credit_assignment_inference\u001b[0m\u001b[0;34m(\u001b[0m\u001b[0mconfig\u001b[0m\u001b[0;34m,\u001b[0m \u001b[0mtraining_log\u001b[0m\u001b[0;34m,\u001b[0m \u001b[0mtesting_log\u001b[0m\u001b[0;34m)\u001b[0m\u001b[0;34m\u001b[0m\u001b[0;34m\u001b[0m\u001b[0m\n\u001b[0m",
      "\u001b[0;31mNameError\u001b[0m: name 'config' is not defined"
     ]
    }
   ],
   "source": [
    "def plot_credit_assignment_inference( config, training_log, testing_log):\n",
    "    if len(training_log.bu_context_ids) > 0: context_ids =  training_log.bu_context_ids\n",
    "    elif len(training_log.td_context_ids) > 0: context_ids =  training_log.td_context_ids\n",
    "    else: \n",
    "        # len(training_log.md_context_ids) > 0: \n",
    "        policy_context_id = np.ones([1,config.md_size])/config.md_size\n",
    "        context_ids = [policy_context_id.repeat(config.batch_size, 0)] * training_log.stamps[-1]\n",
    "\n",
    "    \n",
    "    mg = np.stack(np.stack([bci.mean(0) for bci in context_ids]))\n",
    "    # mg = mg.mean(1) #(7957, 15) # average across batch\n",
    "\n",
    "    x0, x1 = 0, training_log.stamps[-1]\n",
    "    no_of_values = len(config.tasks)\n",
    "    norm = mpl.colors.Normalize(vmin=min([0,no_of_values]), vmax=max([0,no_of_values]))\n",
    "    cmap_obj = mpl.cm.get_cmap('Set1') # tab20b tab20\n",
    "    cmap = mpl.cm.ScalarMappable(norm=norm, cmap=cmap_obj)\n",
    "\n",
    "    switches=  training_log.switch_trialxxbatch[:] \n",
    "    # switches=  training_log.switch_trialxxbatch[1:] # earlier on I must have added zero as a switch trial \n",
    "\n",
    "    fig, axes = plt.subplots(4,1, figsize=[12,6], sharex = True)\n",
    "\n",
    "    ax = axes[0]\n",
    "    print(ax.get_position())\n",
    "    ax.set_position(matplotlib.transforms.Bbox([[0.125, 0.715], [.747, 0.880]]))\n",
    "\n",
    "    ax.plot(np.array(training_log.stamps)[x0:x1], np.array(training_log.accuracies)[x0:x1])\n",
    "    for ri in range(len(switches)-1):\n",
    "        ax.axvspan(training_log.switch_trialxxbatch[ri], training_log.switch_trialxxbatch[ri]+1, color =cmap.to_rgba(training_log.switch_task_id[ri]) , alpha=0.5)\n",
    "        id = training_log.switch_task_id[ri]\n",
    "        task_name = config.human_task_names[id]\n",
    "        ax.text(training_log.switch_trialxxbatch[ri], 1.0 + np.random.uniform(-0.1, 0.25), task_name, color= cmap.to_rgba(id) , fontsize=10)\n",
    "    ax.set_ylabel('current task accuracy')\n",
    "    ax.set_xticks(list(range(0, x1, 200)))\n",
    "    ax.set_xticklabels([str(i) for i in list(range(0, x1, 200))])\n",
    "    # ax.set_xlim([x0, x1])\n",
    "    # for ri in range(len(training_log.switch_trialxxbatch)-1):\n",
    "    #     ax.axvspan(training_log.switch_trialxxbatch[ri], training_log.switch_trialxxbatch[ri+1], color =cmap.to_rgba(training_log.switch_task_id[ri]) , alpha=0.2)\n",
    "    ax = axes[1]\n",
    "    t = 0\n",
    "    d = training_log.stamps[-1]\n",
    "    average_acc =[]\n",
    "    taa = []\n",
    "    for logi in range(config.no_of_tasks):\n",
    "        taa.append([test_acc[logi] for test_acc in testing_log.accuracies])\n",
    "    average_acc.append(np.stack(taa))\n",
    "\n",
    "    testing_t = convert_train_to_test_idx(training_log, testing_log, t)\n",
    "    testing_e =convert_train_to_test_idx(training_log, testing_log, t+d)\n",
    "    ax.plot(testing_log.stamps[testing_t:testing_e], average_acc[0].mean(0)[testing_t:testing_e])\n",
    "    ax.axvspan(0, d, color='tab:blue', alpha=0.2)\n",
    "    ax.set_ylim([0,1])\n",
    "    ax.set_ylabel('all tasks with Rule accuracy')\n",
    "    # ax.set_title('With task rule input provided')\n",
    "    # print(ax.get_position())\n",
    "    ax.set_position(matplotlib.transforms.Bbox([[0.125, 0.519], [.747, 0.683]]))    \n",
    "\n",
    "    ax = axes[2]\n",
    "    mtd = mg.squeeze()# np.stack(context_ids)\n",
    "    # mtd = tdci.mean(1) # (7729, 15)\n",
    "    im = sns.heatmap(mtd.T, ax = ax)\n",
    "    ax.set_xlim([x0, x1])\n",
    "    ax.set_ylabel('md activity')\n",
    "    # ax.colorbar()\n",
    "    # plt.colorbar(im) #, ax=ax.ravel().tolist())\n",
    "\n",
    "\n",
    "    ax.set_xlim([x0, x1])\n",
    "\n",
    "    # ax.set_ylim([0,1])\n",
    "    for ri in range(len(switches)-1):\n",
    "        # print(ri)\n",
    "        ax.scatter(switches[ri], (training_log.switch_task_id[ri]+0.5), color =cmap.to_rgba(training_log.switch_task_id[ri]) ,  linewidth=4, )#alpha=0.2)\n",
    "        ax.axvspan(training_log.switch_trialxxbatch[ri], training_log.switch_trialxxbatch[ri]+1, color =cmap.to_rgba(training_log.switch_task_id[ri]) , alpha=0.9)\n",
    "\n",
    "    ax = axes[3]\n",
    "    ax = sns.heatmap(mg.T, cmap='Reds', ax = ax, vmax=mg.max()/3)\n",
    "    ax.set_xticks(list(range(0, x1, 200)))\n",
    "    ax.set_xticklabels([str(i) for i in list(range(0, x1, 200))])\n",
    "    ax.set_xlim([x0, x1])\n",
    "    ax.set_ylabel('MD grads')\n",
    "    ax.set_xlabel('Trials (100)')\n",
    "    # plt.colorbar(ax)\n",
    "\n",
    "    # sample_rate = 1\n",
    "    # hm = sns.heatmap(mg.T, cmap='Reds', ax = ax)\n",
    "    # # ax.set_yticklabels([str(i) for i in labels])\n",
    "    # ax.set_ylabel('MD neuron idx', fontsize=8)\n",
    "    # ax.set_xticks(list(range(0, x1, 200)))\n",
    "    # ax.set_xticklabels([str(i) for i in list(range(0, x1, 200))])\n",
    "    # # _=ax.set_xlabel('Trial (1000)', fontsize=8)\n",
    "    # ax.set_title('MD grads')\n",
    "\n",
    "    try:\n",
    "        plt.savefig('./files/'+ config.exp_name+f'/CAI_summary_{config.exp_signature}_bottom_up_optimizing.jpg', dpi=200)\n",
    "    except:\n",
    "        # plt.savefig('./../files/'+ config.exp_name+f'/CAI_summary_{config.exp_signature}_bottom_up_optimizing.jpg', dpi=200)\n",
    "        plt.savefig('./../files/'+ config.exp_name+f'/CAI_summary_{config.exp_signature}_bu_optimizing_many_batches.jpg', dpi=300)\n",
    "        # plt.savefig('./../files/'+ config.exp_name+f'/CAI_summary_{config.exp_signature}_policy_optimizing.jpg', dpi=200)\n",
    "plot_credit_assignment_inference(config, training_log, testing_log)"
   ]
  }
 ],
 "metadata": {
  "interpreter": {
   "hash": "a614b6822d675a3f6a0a3577ebf5b4959c824debbecc60b4403748357850657b"
  },
  "kernelspec": {
   "display_name": "Python 3.8.11 64-bit ('base': conda)",
   "name": "python3"
  },
  "language_info": {
   "codemirror_mode": {
    "name": "ipython",
    "version": 3
   },
   "file_extension": ".py",
   "mimetype": "text/x-python",
   "name": "python",
   "nbconvert_exporter": "python",
   "pygments_lexer": "ipython3",
   "version": "3.8.13"
  }
 },
 "nbformat": 4,
 "nbformat_minor": 5
}
